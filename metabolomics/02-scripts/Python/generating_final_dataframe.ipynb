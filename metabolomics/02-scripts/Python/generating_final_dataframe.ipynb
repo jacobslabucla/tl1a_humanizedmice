{
 "cells": [
  {
   "cell_type": "code",
   "execution_count": 1,
   "id": "ea1b671a",
   "metadata": {
    "scrolled": false
   },
   "outputs": [],
   "source": [
    "import pandas as pd\n",
    "import re\n",
    "import json\n",
    "import itertools\n",
    "import math\n",
    "import numpy as np"
   ]
  },
  {
   "cell_type": "code",
   "execution_count": 2,
   "id": "f0c7bacc",
   "metadata": {},
   "outputs": [],
   "source": [
    "#read dict .json matches file\n",
    "m_dir = \"match_result/filtered_hit.json\"\n",
    "match_dict = json.load(open(m_dir))"
   ]
  },
  {
   "cell_type": "code",
   "execution_count": 3,
   "id": "5cbe302f",
   "metadata": {},
   "outputs": [],
   "source": [
    "#read excel file containing the metabolite abundance\n",
    "s_dir = \"raw/ww_ut_metabolomics_duplicateremoved.xlsx\"\n",
    "rawdf = pd.read_excel(s_dir, sheet_name=2)\n",
    "finaldf = rawdf[['Mass', 'CIPS 1A', 'CIPS 2A', 'CIPS 3A',\n",
    "                'Ciscar 1A', 'Ciscar 2A', 'Ciscar 3A',\n",
    "                'General 1A', 'General 2A', 'General 3A',\n",
    "                'Pesset 1A', 'Pesset 2A', 'Pesset 3A']]"
   ]
  },
  {
   "cell_type": "code",
   "execution_count": null,
   "id": "f1ade629",
   "metadata": {},
   "outputs": [],
   "source": [
    "#create dataframe with columns containing found_mass, location, time, and value\n",
    "\n",
    "finaldf_1 = pd.DataFrame(columns = ['found_mass', 'location', 'time', 'auc', 'tic_auc', 'log2_auc'])\n",
    "time_key = {'1A':'Morning', '2A':'Afternoon', '3A':'Evening'}\n",
    "\n",
    "for x in range(0, len(finaldf)):\n",
    "    found_mass = finaldf.iloc[x,0]\n",
    "    \n",
    "    tmpdict = {}\n",
    "    \n",
    "    for y in finaldf.loc[:, 'CIPS 1A':'Pesset 3A'].columns:\n",
    "        \n",
    "        tmpdict['found_mass'] = found_mass\n",
    "        tmpdict['auc'] = finaldf.loc[x,y]\n",
    "        tmpdict['log2_auc'] = np.log(tmpdict['auc'])\n",
    "        \n",
    "        tic = sum(finaldf.loc[:, y])\n",
    "        tmpdict['tic_auc'] = finaldf.loc[x,y]/tic\n",
    "        \n",
    "        tmpdict['time'] = time_key[y.split()[1]]\n",
    "        tmpdict['location'] = y.split()[0]\n",
    "            \n",
    "        finaldf_1 = pd.concat([finaldf_1, pd.DataFrame([tmpdict])], ignore_index=True)\n",
    "\n",
    "finaldf_1"
   ]
  },
  {
   "cell_type": "code",
   "execution_count": null,
   "id": "e2b99384",
   "metadata": {},
   "outputs": [],
   "source": [
    "#create dataframe with columns containing list of potential matches\n",
    "finaldict = {}\n",
    "for x in range(0, len(finaldf)):\n",
    "    found_mass = finaldf.iloc[x,0]\n",
    "    \n",
    "    matches = match_dict[str(found_mass)]\n",
    "    \n",
    "    matchlist = []\n",
    "    \n",
    "    for z in matches.keys():\n",
    "        matchlist.append(matches[z]['name'])\n",
    "        \n",
    "    finaldict[found_mass] = str(matchlist)\n",
    "    \n",
    "dfd = pd.DataFrame(dict([ (k,pd.Series(v)) for k,v in finaldict.items() ])).T\n",
    "\n",
    "dfd.to_csv(\"name.csv\")"
   ]
  },
  {
   "cell_type": "code",
   "execution_count": 4,
   "id": "f201ec94",
   "metadata": {
    "scrolled": true
   },
   "outputs": [],
   "source": [
    "#create dataframe with columns containing found_mass, location, time, and value\n",
    "\n",
    "finaldf_1 = pd.DataFrame(columns = ['found_mass', 'location', 'time', 'auc', 'log10_auc', 'chem_name', 'chem_tax_king', \"chem_tax_supclass\",\n",
    "                                   \"chem_tax_class\", \"chem_tax_subclass\", \"chem_source\", \"chem_ont_class\", \"chem_ont_subclass\", \n",
    "                                    \"chem_ont_reldiet\", 'chem_ont_reldrug',\"chem_ont_reldisease\"])\n",
    "time_key = {'1A':'Morning', '2A':'Afternoon', '3A':'Evening'}\n",
    "\n",
    "for x in range(0, len(finaldf)):\n",
    "    found_mass = finaldf.iloc[x,0]\n",
    "    \n",
    "    tmpdict = {}\n",
    "    \n",
    "    for y in finaldf.loc[:, 'CIPS 1A':'Pesset 3A'].columns:\n",
    "        \n",
    "        matches = match_dict[str(found_mass)]\n",
    "        \n",
    "        for z in matches.keys():\n",
    "        \n",
    "            tmpdict['found_mass'] = found_mass\n",
    "            tmpdict['auc'] = finaldf.loc[x,y]\n",
    "            tmpdict['log10_auc'] = np.log10(tmpdict['auc'])\n",
    "            tic = sum(finaldf.loc[:, y])\n",
    "            tmpdict['tic_auc'] = finaldf.loc[x,y]/tic\n",
    "            \n",
    "            tmpdict['time'] = time_key[y.split()[1]]\n",
    "            tmpdict['location'] = y.split()[0]\n",
    "            \n",
    "            tmpdict['chem_name'] = matches[z]['name']\n",
    "            \n",
    "            tmpdict['chem_tax_king'] = matches[z]['taxonomy']['kingdom']\n",
    "            tmpdict['chem_tax_supclass'] = matches[z]['taxonomy']['superclass']\n",
    "            tmpdict['chem_tax_class'] = matches[z]['taxonomy']['class']\n",
    "            tmpdict['chem_tax_subclass'] = matches[z]['taxonomy']['subclass']\n",
    "            \n",
    "            tmpdict['chem_source'] = matches[z]['ontology']['source']\n",
    "            tmpdict['chem_ont_class'] = matches[z]['ontology']['chem_ont_class']\n",
    "            tmpdict['chem_ont_subclass'] = matches[z]['ontology']['chem_ont_subclass']\n",
    "            tmpdict['chem_ont_reldiet'] = matches[z]['ontology']['chem_ont_reldiet']\n",
    "            tmpdict['chem_ont_reldrug'] = matches[z]['ontology']['chem_ont_reldrug']\n",
    "            tmpdict['chem_ont_reldisease'] = matches[z]['ontology']['chem_ont_reldisease']\n",
    "            \n",
    "            if len(matches) > 1:\n",
    "                tmpdict['multiple_matches'] = 'True'\n",
    "            else:\n",
    "                tmpdict['multiple_matches'] = 'False'\n",
    "            \n",
    "            finaldf_1 = pd.concat([finaldf_1, pd.DataFrame([tmpdict])], ignore_index=True)"
   ]
  },
  {
   "cell_type": "code",
   "execution_count": null,
   "id": "0c65f220",
   "metadata": {},
   "outputs": [],
   "source": [
    "finaldf_1.to_csv('match_result/finalmatched_massonly.csv', index=False)"
   ]
  },
  {
   "cell_type": "code",
   "execution_count": 5,
   "id": "119c1764",
   "metadata": {},
   "outputs": [],
   "source": [
    "finaldf_2 = finaldf_1[finaldf_1['chem_ont_subclass'] == 'antibiotics'].reset_index()\n",
    "finaldf_2.to_csv('match_result/finalmatched_antibiotics.csv', index=False)"
   ]
  },
  {
   "cell_type": "code",
   "execution_count": null,
   "id": "3a2d5b06",
   "metadata": {},
   "outputs": [],
   "source": []
  }
 ],
 "metadata": {
  "kernelspec": {
   "display_name": "Python 3 (ipykernel)",
   "language": "python",
   "name": "python3"
  },
  "language_info": {
   "codemirror_mode": {
    "name": "ipython",
    "version": 3
   },
   "file_extension": ".py",
   "mimetype": "text/x-python",
   "name": "python",
   "nbconvert_exporter": "python",
   "pygments_lexer": "ipython3",
   "version": "3.9.13"
  }
 },
 "nbformat": 4,
 "nbformat_minor": 5
}
