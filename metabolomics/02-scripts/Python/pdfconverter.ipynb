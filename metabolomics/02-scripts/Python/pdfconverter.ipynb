{
 "cells": [
  {
   "cell_type": "code",
   "execution_count": 1,
   "id": "fbfa53c7",
   "metadata": {},
   "outputs": [],
   "source": [
    "from pdf2image import convert_from_path\n",
    "pop_path = r\"poppler-23.05.0/Library/bin\""
   ]
  },
  {
   "cell_type": "code",
   "execution_count": 2,
   "id": "ae372a8e",
   "metadata": {},
   "outputs": [],
   "source": [
    "images = convert_from_path('figs/allchem.pdf', 300, poppler_path = pop_path)\n",
    "for x, image in enumerate(images):\n",
    "    image.save(f'figs/allchem_pic/output_{x}.png')"
   ]
  },
  {
   "cell_type": "code",
   "execution_count": null,
   "id": "2227f051",
   "metadata": {},
   "outputs": [],
   "source": []
  }
 ],
 "metadata": {
  "kernelspec": {
   "display_name": "Python 3 (ipykernel)",
   "language": "python",
   "name": "python3"
  },
  "language_info": {
   "codemirror_mode": {
    "name": "ipython",
    "version": 3
   },
   "file_extension": ".py",
   "mimetype": "text/x-python",
   "name": "python",
   "nbconvert_exporter": "python",
   "pygments_lexer": "ipython3",
   "version": "3.9.13"
  }
 },
 "nbformat": 4,
 "nbformat_minor": 5
}
